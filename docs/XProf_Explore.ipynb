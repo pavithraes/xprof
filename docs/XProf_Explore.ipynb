{
  "cells": [
    {
      "cell_type": "markdown",
      "metadata": {
        "id": "54kErBXYL_t5"
      },
      "source": [
        "# Explore Xprof Tools"
      ]
    },
    {
      "cell_type": "markdown",
      "metadata": {
        "id": "KvFO8vdBMKOB"
      },
      "source": [
        "This notebook demonstrates how to load the XProf tools with Tensorboard."
      ]
    },
    {
      "cell_type": "code",
      "execution_count": null,
      "metadata": {
        "id": "UouZW4zcr7sY"
      },
      "outputs": [],
      "source": [
        "# Install the stable version of the profiler plugin\n",
        "!pip install -U tensorboard_plugin_profile"
      ]
    },
    {
      "cell_type": "code",
      "execution_count": null,
      "metadata": {
        "id": "u6LAn2_VEysw"
      },
      "outputs": [],
      "source": [
        "# git clone the xprof repo so we have access to the demo data there\n",
        "!git clone http://github.com/openxla/xprof"
      ]
    },
    {
      "cell_type": "code",
      "execution_count": null,
      "metadata": {
        "id": "talMdGsuEoGm"
      },
      "outputs": [],
      "source": [
        "# Load the TensorBoard notebook extension.\n",
        "%load_ext tensorboard"
      ]
    },
    {
      "cell_type": "code",
      "execution_count": null,
      "metadata": {
        "id": "6vSJOEThEoNY"
      },
      "outputs": [],
      "source": [
        "# Launch TensorBoard and navigate to the Profile tab to view performance profile\n",
        "%tensorboard --logdir=xprof/demo"
      ]
    },
    {
      "cell_type": "markdown",
      "metadata": {
        "id": "BKcLu97YMV6x"
      },
      "source": [
        "Once tensorboard loads the profile plugin, use the _Tools_ drop down to select the tool you want to explore."
      ]
    }
  ],
  "metadata": {
    "colab": {
      "provenance": []
    },
    "kernelspec": {
      "display_name": "Python 3",
      "name": "python3"
    },
    "language_info": {
      "name": "python"
    }
  },
  "nbformat": 4,
  "nbformat_minor": 0
}
